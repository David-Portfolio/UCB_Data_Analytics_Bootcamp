{
 "cells": [
  {
   "cell_type": "markdown",
   "metadata": {},
   "source": [
    "# Part 3 Instructions: Create a Travel Itinerary with a Corresponding Map"
   ]
  },
  {
   "cell_type": "code",
   "execution_count": 105,
   "metadata": {},
   "outputs": [],
   "source": [
    "# Import the dependencies.\n",
    "import pandas as pd\n",
    "import gmaps\n",
    "import requests\n",
    "# Import the API key.\n",
    "from config import g_key"
   ]
  },
  {
   "cell_type": "code",
   "execution_count": 106,
   "metadata": {},
   "outputs": [],
   "source": [
    "# Configure gmaps to use your Google API key.\n",
    "gmaps.configure(api_key=g_key)"
   ]
  },
  {
   "cell_type": "code",
   "execution_count": 107,
   "metadata": {},
   "outputs": [
    {
     "data": {
      "text/html": [
       "<div>\n",
       "<style scoped>\n",
       "    .dataframe tbody tr th:only-of-type {\n",
       "        vertical-align: middle;\n",
       "    }\n",
       "\n",
       "    .dataframe tbody tr th {\n",
       "        vertical-align: top;\n",
       "    }\n",
       "\n",
       "    .dataframe thead th {\n",
       "        text-align: right;\n",
       "    }\n",
       "</style>\n",
       "<table border=\"1\" class=\"dataframe\">\n",
       "  <thead>\n",
       "    <tr style=\"text-align: right;\">\n",
       "      <th></th>\n",
       "      <th>City_ID</th>\n",
       "      <th>City</th>\n",
       "      <th>Country</th>\n",
       "      <th>Max Temp</th>\n",
       "      <th>Lat</th>\n",
       "      <th>Lng</th>\n",
       "      <th>Current Weather</th>\n",
       "      <th>Hotel Name</th>\n",
       "    </tr>\n",
       "  </thead>\n",
       "  <tbody>\n",
       "    <tr>\n",
       "      <th>0</th>\n",
       "      <td>1</td>\n",
       "      <td>Salalah</td>\n",
       "      <td>OM</td>\n",
       "      <td>84.20</td>\n",
       "      <td>17.02</td>\n",
       "      <td>54.09</td>\n",
       "      <td>few clouds</td>\n",
       "      <td>HAMDAN PLAZA HOTEL</td>\n",
       "    </tr>\n",
       "    <tr>\n",
       "      <th>1</th>\n",
       "      <td>4</td>\n",
       "      <td>Carutapera</td>\n",
       "      <td>BR</td>\n",
       "      <td>82.06</td>\n",
       "      <td>-1.20</td>\n",
       "      <td>-46.02</td>\n",
       "      <td>clear sky</td>\n",
       "      <td>Lidera</td>\n",
       "    </tr>\n",
       "    <tr>\n",
       "      <th>2</th>\n",
       "      <td>14</td>\n",
       "      <td>George Town</td>\n",
       "      <td>MY</td>\n",
       "      <td>82.40</td>\n",
       "      <td>5.41</td>\n",
       "      <td>100.34</td>\n",
       "      <td>few clouds</td>\n",
       "      <td>Cititel Penang</td>\n",
       "    </tr>\n",
       "    <tr>\n",
       "      <th>3</th>\n",
       "      <td>17</td>\n",
       "      <td>Brigantine</td>\n",
       "      <td>US</td>\n",
       "      <td>82.40</td>\n",
       "      <td>39.41</td>\n",
       "      <td>-74.36</td>\n",
       "      <td>few clouds</td>\n",
       "      <td>Legacy Vacation Resort Brigantine Beach</td>\n",
       "    </tr>\n",
       "    <tr>\n",
       "      <th>4</th>\n",
       "      <td>20</td>\n",
       "      <td>Georgetown</td>\n",
       "      <td>MY</td>\n",
       "      <td>82.40</td>\n",
       "      <td>5.41</td>\n",
       "      <td>100.34</td>\n",
       "      <td>few clouds</td>\n",
       "      <td>Cititel Penang</td>\n",
       "    </tr>\n",
       "    <tr>\n",
       "      <th>...</th>\n",
       "      <td>...</td>\n",
       "      <td>...</td>\n",
       "      <td>...</td>\n",
       "      <td>...</td>\n",
       "      <td>...</td>\n",
       "      <td>...</td>\n",
       "      <td>...</td>\n",
       "      <td>...</td>\n",
       "    </tr>\n",
       "    <tr>\n",
       "      <th>141</th>\n",
       "      <td>562</td>\n",
       "      <td>Les Cayes</td>\n",
       "      <td>HT</td>\n",
       "      <td>84.96</td>\n",
       "      <td>18.20</td>\n",
       "      <td>-73.75</td>\n",
       "      <td>broken clouds</td>\n",
       "      <td>Villa Orphee</td>\n",
       "    </tr>\n",
       "    <tr>\n",
       "      <th>142</th>\n",
       "      <td>578</td>\n",
       "      <td>Mahuva</td>\n",
       "      <td>IN</td>\n",
       "      <td>84.36</td>\n",
       "      <td>21.09</td>\n",
       "      <td>71.76</td>\n",
       "      <td>overcast clouds</td>\n",
       "      <td>Hotel Blue Diamond.</td>\n",
       "    </tr>\n",
       "    <tr>\n",
       "      <th>143</th>\n",
       "      <td>580</td>\n",
       "      <td>Corpus Christi</td>\n",
       "      <td>US</td>\n",
       "      <td>90.00</td>\n",
       "      <td>27.80</td>\n",
       "      <td>-97.40</td>\n",
       "      <td>broken clouds</td>\n",
       "      <td>Holiday Inn Corpus Christi Downtown Marina</td>\n",
       "    </tr>\n",
       "    <tr>\n",
       "      <th>144</th>\n",
       "      <td>582</td>\n",
       "      <td>Canto Do Buriti</td>\n",
       "      <td>BR</td>\n",
       "      <td>84.58</td>\n",
       "      <td>-8.11</td>\n",
       "      <td>-42.94</td>\n",
       "      <td>clear sky</td>\n",
       "      <td>Novo Hotel</td>\n",
       "    </tr>\n",
       "    <tr>\n",
       "      <th>145</th>\n",
       "      <td>583</td>\n",
       "      <td>Santa Vitoria</td>\n",
       "      <td>BR</td>\n",
       "      <td>80.64</td>\n",
       "      <td>-18.84</td>\n",
       "      <td>-50.12</td>\n",
       "      <td>broken clouds</td>\n",
       "      <td>Center Hotel</td>\n",
       "    </tr>\n",
       "  </tbody>\n",
       "</table>\n",
       "<p>146 rows × 8 columns</p>\n",
       "</div>"
      ],
      "text/plain": [
       "     City_ID             City Country  Max Temp    Lat     Lng  \\\n",
       "0          1          Salalah      OM     84.20  17.02   54.09   \n",
       "1          4       Carutapera      BR     82.06  -1.20  -46.02   \n",
       "2         14      George Town      MY     82.40   5.41  100.34   \n",
       "3         17       Brigantine      US     82.40  39.41  -74.36   \n",
       "4         20       Georgetown      MY     82.40   5.41  100.34   \n",
       "..       ...              ...     ...       ...    ...     ...   \n",
       "141      562        Les Cayes      HT     84.96  18.20  -73.75   \n",
       "142      578           Mahuva      IN     84.36  21.09   71.76   \n",
       "143      580   Corpus Christi      US     90.00  27.80  -97.40   \n",
       "144      582  Canto Do Buriti      BR     84.58  -8.11  -42.94   \n",
       "145      583    Santa Vitoria      BR     80.64 -18.84  -50.12   \n",
       "\n",
       "     Current Weather                                  Hotel Name  \n",
       "0         few clouds                          HAMDAN PLAZA HOTEL  \n",
       "1          clear sky                                      Lidera  \n",
       "2         few clouds                              Cititel Penang  \n",
       "3         few clouds     Legacy Vacation Resort Brigantine Beach  \n",
       "4         few clouds                              Cititel Penang  \n",
       "..               ...                                         ...  \n",
       "141    broken clouds                                Villa Orphee  \n",
       "142  overcast clouds                         Hotel Blue Diamond.  \n",
       "143    broken clouds  Holiday Inn Corpus Christi Downtown Marina  \n",
       "144        clear sky                                  Novo Hotel  \n",
       "145    broken clouds                                Center Hotel  \n",
       "\n",
       "[146 rows x 8 columns]"
      ]
     },
     "execution_count": 107,
     "metadata": {},
     "output_type": "execute_result"
    }
   ],
   "source": [
    "# Import the WeatherPy_vacation.csv file as a new DataFrame\n",
    "vacation_df = pd.read_csv(\"weather_data/data/WeatherPy_vacation.csv\")\n",
    "vacation_df"
   ]
  },
  {
   "cell_type": "code",
   "execution_count": 108,
   "metadata": {},
   "outputs": [
    {
     "data": {
      "application/vnd.jupyter.widget-view+json": {
       "model_id": "3347b5363fc944af84af674581080d67",
       "version_major": 2,
       "version_minor": 0
      },
      "text/plain": [
       "Figure(layout=FigureLayout(height='420px'))"
      ]
     },
     "metadata": {},
     "output_type": "display_data"
    }
   ],
   "source": [
    "# Using the template add the hotel marks to the map\n",
    "info_box_template = \"\"\"\n",
    "<dl>\n",
    "<dt>Hotel Name</dt><dd>{Hotel Name}</dd>\n",
    "<dt>City</dt><dd>{City}</dd>\n",
    "<dt>Country</dt><dd>{Country}</dd>\n",
    "<dt>Hotel Name</dt><dd>{Hotel Name} at {Max Temp}</dd>\n",
    "\"\"\"\n",
    "\n",
    "# Store the DataFrame row\n",
    "hotel_info = [info_box_template.format(**row) for index, row in vacation_df.iterrows()]\n",
    "\n",
    "# Add a marker layer map of the vacation spots and a pop-up marker for each city\n",
    "locations = vacation_df[[\"Lat\", \"Lng\"]]\n",
    "marker_layer = gmaps.marker_layer(locations, info_box_content=hotel_info)\n",
    "fig = gmaps.figure(center=(38,38), zoom_level = 1.8)\n",
    "fig.add_layer(marker_layer)\n",
    "fig"
   ]
  },
  {
   "cell_type": "code",
   "execution_count": 109,
   "metadata": {},
   "outputs": [],
   "source": [
    "continent_list = [\"Asia\", \"Africa\", \"North America\", \"South America\", \"Antarctica\", \"Europe\", \"Australia\"]"
   ]
  },
  {
   "cell_type": "code",
   "execution_count": 110,
   "metadata": {},
   "outputs": [
    {
     "name": "stdout",
     "output_type": "stream",
     "text": [
      "Note: Selections must have a marker reflected in the map otherwise prompt will error.\n",
      "Enter continent i.e. Asia, Africa, North America, South America, Antarctica, Europe, or Australia: South America\n",
      "Enter first city from South America: Campoverde\n",
      "Enter second city from South America: Santa Cruz\n",
      "Enter second city from South America: Santa Vitoria\n",
      "Enter second city from South America: Campo Maior\n"
     ]
    }
   ],
   "source": [
    "print(\"Note: Selections must have a marker reflected in the map otherwise prompt will error.\")\n",
    "\n",
    "# Create customer prompts to choose 4 cities\n",
    "continent_prompt = input(\"Enter continent i.e. Asia, Africa, North America, South America, Antarctica, Europe, or Australia: \")\n",
    "\n",
    "if continent_prompt in continent_list:\n",
    "    city_prompt1 = input(\"Enter first city from \"+continent_prompt+\": \")\n",
    "    city_prompt2 = input(\"Enter second city from \"+continent_prompt+\": \")\n",
    "    city_prompt3 = input(\"Enter second city from \"+continent_prompt+\": \")\n",
    "    city_prompt4 = input(\"Enter second city from \"+continent_prompt+\": \")\n",
    "else:\n",
    "    error_prompt = input(\"Not a valid entry. Enter continent i.e Asia, Africa, North America, South America, Antarctica, Europe, or Australia: \")\n",
    "    if error_prompt in continent_list:\n",
    "        city_prompt1 = input(\"Enter first city from \"+error_prompt+\": \")\n",
    "        city_prompt2 = input(\"Enter second city from \"+error_prompt+\": \")\n",
    "        city_prompt3 = input(\"Enter second city from \"+error_prompt+\": \")\n",
    "        city_prompt4 = input(\"Enter second city from \"+error_prompt+\": \")\n",
    "    else:\n",
    "        print(\"Not a valid entry. Please restart prompt to try again.\")"
   ]
  },
  {
   "cell_type": "code",
   "execution_count": 111,
   "metadata": {},
   "outputs": [],
   "source": [
    "# Create separate DataFrames for each city on the travel route, using the loc attribute\n",
    "city_location1 = vacation_df.loc[vacation_df[\"City\"] == city_prompt1]\n",
    "city_location2 = vacation_df.loc[vacation_df[\"City\"] == city_prompt2]\n",
    "city_location3 = vacation_df.loc[vacation_df[\"City\"] == city_prompt3]\n",
    "city_location4 = vacation_df.loc[vacation_df[\"City\"] == city_prompt4]"
   ]
  },
  {
   "cell_type": "code",
   "execution_count": 112,
   "metadata": {},
   "outputs": [
    {
     "name": "stdout",
     "output_type": "stream",
     "text": [
      "(-8.48, -74.81)\n",
      "(-17.8, -63.17)\n",
      "(-18.84, -50.12)\n",
      "(-4.83, -42.17)\n"
     ]
    }
   ],
   "source": [
    "# To map each city on the route, get the latitude-longitude pairs for each city DataFrame as tuples\n",
    "location1 = city_location1[\"Lat\"].values[0], city_location1[\"Lng\"].values[0]\n",
    "location2 = city_location2[\"Lat\"].values[0], city_location2[\"Lng\"].values[0]\n",
    "location3 = city_location3[\"Lat\"].values[0], city_location3[\"Lng\"].values[0]\n",
    "location4 = city_location4[\"Lat\"].values[0], city_location4[\"Lng\"].values[0]\n",
    "\n",
    "print(location1)\n",
    "print(location2)\n",
    "print(location3)\n",
    "print(location4)"
   ]
  },
  {
   "cell_type": "code",
   "execution_count": 113,
   "metadata": {},
   "outputs": [
    {
     "data": {
      "application/vnd.jupyter.widget-view+json": {
       "model_id": "acf8a206cdb043b5b1bc4010bc57a3e1",
       "version_major": 2,
       "version_minor": 0
      },
      "text/plain": [
       "Figure(layout=FigureLayout(height='420px'))"
      ]
     },
     "metadata": {},
     "output_type": "display_data"
    }
   ],
   "source": [
    "# Use the directions Layer instructions from the gmaps documentation (Links to an external site.).\n",
    "# For the travel_mode, use either DRIVING, BICYCLING, or WALKING\n",
    "\n",
    "fig = gmaps.figure()\n",
    "vacation_itinerary = gmaps.directions_layer(location1, location4, waypoints = [location2, location3], travel_mode = \"DRIVING\")\n",
    "fig.add_layer(vacation_itinerary)\n",
    "fig"
   ]
  },
  {
   "cell_type": "code",
   "execution_count": 114,
   "metadata": {},
   "outputs": [
    {
     "data": {
      "text/html": [
       "<div>\n",
       "<style scoped>\n",
       "    .dataframe tbody tr th:only-of-type {\n",
       "        vertical-align: middle;\n",
       "    }\n",
       "\n",
       "    .dataframe tbody tr th {\n",
       "        vertical-align: top;\n",
       "    }\n",
       "\n",
       "    .dataframe thead th {\n",
       "        text-align: right;\n",
       "    }\n",
       "</style>\n",
       "<table border=\"1\" class=\"dataframe\">\n",
       "  <thead>\n",
       "    <tr style=\"text-align: right;\">\n",
       "      <th></th>\n",
       "      <th>City_ID</th>\n",
       "      <th>City</th>\n",
       "      <th>Country</th>\n",
       "      <th>Max Temp</th>\n",
       "      <th>Lat</th>\n",
       "      <th>Lng</th>\n",
       "      <th>Current Weather</th>\n",
       "      <th>Hotel Name</th>\n",
       "    </tr>\n",
       "  </thead>\n",
       "  <tbody>\n",
       "    <tr>\n",
       "      <th>21</th>\n",
       "      <td>111</td>\n",
       "      <td>Campoverde</td>\n",
       "      <td>PE</td>\n",
       "      <td>87.80</td>\n",
       "      <td>-8.48</td>\n",
       "      <td>-74.81</td>\n",
       "      <td>broken clouds</td>\n",
       "      <td>Hospedaje \"Señor De Muruhuay\"</td>\n",
       "    </tr>\n",
       "    <tr>\n",
       "      <th>78</th>\n",
       "      <td>298</td>\n",
       "      <td>Campo Maior</td>\n",
       "      <td>BR</td>\n",
       "      <td>84.78</td>\n",
       "      <td>-4.83</td>\n",
       "      <td>-42.17</td>\n",
       "      <td>overcast clouds</td>\n",
       "      <td>Elite Hotel</td>\n",
       "    </tr>\n",
       "    <tr>\n",
       "      <th>66</th>\n",
       "      <td>255</td>\n",
       "      <td>Santa Cruz</td>\n",
       "      <td>BO</td>\n",
       "      <td>86.00</td>\n",
       "      <td>-17.80</td>\n",
       "      <td>-63.17</td>\n",
       "      <td>scattered clouds</td>\n",
       "      <td>Hotel Cortez</td>\n",
       "    </tr>\n",
       "    <tr>\n",
       "      <th>145</th>\n",
       "      <td>583</td>\n",
       "      <td>Santa Vitoria</td>\n",
       "      <td>BR</td>\n",
       "      <td>80.64</td>\n",
       "      <td>-18.84</td>\n",
       "      <td>-50.12</td>\n",
       "      <td>broken clouds</td>\n",
       "      <td>Center Hotel</td>\n",
       "    </tr>\n",
       "  </tbody>\n",
       "</table>\n",
       "</div>"
      ],
      "text/plain": [
       "     City_ID           City Country  Max Temp    Lat    Lng   Current Weather  \\\n",
       "21       111     Campoverde      PE     87.80  -8.48 -74.81     broken clouds   \n",
       "78       298    Campo Maior      BR     84.78  -4.83 -42.17   overcast clouds   \n",
       "66       255     Santa Cruz      BO     86.00 -17.80 -63.17  scattered clouds   \n",
       "145      583  Santa Vitoria      BR     80.64 -18.84 -50.12     broken clouds   \n",
       "\n",
       "                        Hotel Name  \n",
       "21   Hospedaje \"Señor De Muruhuay\"  \n",
       "78                     Elite Hotel  \n",
       "66                    Hotel Cortez  \n",
       "145                   Center Hotel  "
      ]
     },
     "execution_count": 114,
     "metadata": {},
     "output_type": "execute_result"
    }
   ],
   "source": [
    "itinerary_df = pd.concat([city_location1, city_location4, city_location2, city_location3])\n",
    "itinerary_df"
   ]
  },
  {
   "cell_type": "code",
   "execution_count": 115,
   "metadata": {},
   "outputs": [
    {
     "data": {
      "text/html": [
       "<div>\n",
       "<style scoped>\n",
       "    .dataframe tbody tr th:only-of-type {\n",
       "        vertical-align: middle;\n",
       "    }\n",
       "\n",
       "    .dataframe tbody tr th {\n",
       "        vertical-align: top;\n",
       "    }\n",
       "\n",
       "    .dataframe thead th {\n",
       "        text-align: right;\n",
       "    }\n",
       "</style>\n",
       "<table border=\"1\" class=\"dataframe\">\n",
       "  <thead>\n",
       "    <tr style=\"text-align: right;\">\n",
       "      <th></th>\n",
       "      <th>City_ID</th>\n",
       "      <th>City</th>\n",
       "      <th>Country</th>\n",
       "      <th>Max Temp</th>\n",
       "      <th>Lat</th>\n",
       "      <th>Lng</th>\n",
       "      <th>Current Weather</th>\n",
       "      <th>Hotel Name</th>\n",
       "    </tr>\n",
       "  </thead>\n",
       "  <tbody>\n",
       "    <tr>\n",
       "      <th>0</th>\n",
       "      <td>111</td>\n",
       "      <td>Campoverde</td>\n",
       "      <td>PE</td>\n",
       "      <td>87.80</td>\n",
       "      <td>-8.48</td>\n",
       "      <td>-74.81</td>\n",
       "      <td>broken clouds</td>\n",
       "      <td>Hospedaje \"Señor De Muruhuay\"</td>\n",
       "    </tr>\n",
       "    <tr>\n",
       "      <th>1</th>\n",
       "      <td>298</td>\n",
       "      <td>Campo Maior</td>\n",
       "      <td>BR</td>\n",
       "      <td>84.78</td>\n",
       "      <td>-4.83</td>\n",
       "      <td>-42.17</td>\n",
       "      <td>overcast clouds</td>\n",
       "      <td>Elite Hotel</td>\n",
       "    </tr>\n",
       "    <tr>\n",
       "      <th>2</th>\n",
       "      <td>255</td>\n",
       "      <td>Santa Cruz</td>\n",
       "      <td>BO</td>\n",
       "      <td>86.00</td>\n",
       "      <td>-17.80</td>\n",
       "      <td>-63.17</td>\n",
       "      <td>scattered clouds</td>\n",
       "      <td>Hotel Cortez</td>\n",
       "    </tr>\n",
       "    <tr>\n",
       "      <th>3</th>\n",
       "      <td>583</td>\n",
       "      <td>Santa Vitoria</td>\n",
       "      <td>BR</td>\n",
       "      <td>80.64</td>\n",
       "      <td>-18.84</td>\n",
       "      <td>-50.12</td>\n",
       "      <td>broken clouds</td>\n",
       "      <td>Center Hotel</td>\n",
       "    </tr>\n",
       "  </tbody>\n",
       "</table>\n",
       "</div>"
      ],
      "text/plain": [
       "   City_ID           City Country  Max Temp    Lat    Lng   Current Weather  \\\n",
       "0      111     Campoverde      PE     87.80  -8.48 -74.81     broken clouds   \n",
       "1      298    Campo Maior      BR     84.78  -4.83 -42.17   overcast clouds   \n",
       "2      255     Santa Cruz      BO     86.00 -17.80 -63.17  scattered clouds   \n",
       "3      583  Santa Vitoria      BR     80.64 -18.84 -50.12     broken clouds   \n",
       "\n",
       "                      Hotel Name  \n",
       "0  Hospedaje \"Señor De Muruhuay\"  \n",
       "1                    Elite Hotel  \n",
       "2                   Hotel Cortez  \n",
       "3                   Center Hotel  "
      ]
     },
     "execution_count": 115,
     "metadata": {},
     "output_type": "execute_result"
    }
   ],
   "source": [
    "itinerary_df.reset_index(drop=True)"
   ]
  },
  {
   "cell_type": "code",
   "execution_count": 116,
   "metadata": {},
   "outputs": [
    {
     "data": {
      "application/vnd.jupyter.widget-view+json": {
       "model_id": "8d3581e2348f4190b5fa343a72e63b98",
       "version_major": 2,
       "version_minor": 0
      },
      "text/plain": [
       "Figure(layout=FigureLayout(height='420px'))"
      ]
     },
     "metadata": {},
     "output_type": "display_data"
    }
   ],
   "source": [
    "# Create a marker layer map for the four cities\n",
    "info_box_template = \"\"\"\n",
    "<dl>\n",
    "<dt>Hotel Name</dt><dd>{Hotel Name}</dd>\n",
    "<dt>City</dt><dd>{City}</dd>\n",
    "<dt>Country</dt><dd>{Country}</dd>\n",
    "<dt>Current Weather</dt><dd>{Current Weather} at {Max Temp}</dd>\n",
    "\"\"\"\n",
    "\n",
    "# Store the DataFrame row\n",
    "hotel_info = [info_box_template.format(**row) for index, row in itinerary_df.iterrows()]\n",
    "\n",
    "# Add a marker layer map of the vacation spots and a pop-up marker for each city that contains \n",
    "# hotel name, city, country and current weather description with the max temp\n",
    "locations = itinerary_df[[\"Lat\", \"Lng\"]]\n",
    "marker_layer = gmaps.marker_layer(locations, info_box_content=hotel_info)\n",
    "fig = gmaps.figure()\n",
    "fig.add_layer(marker_layer)\n",
    "fig\n",
    "# Click icon on top left of map to download and save"
   ]
  }
 ],
 "metadata": {
  "kernelspec": {
   "display_name": "PythonData",
   "language": "python",
   "name": "pythondata"
  },
  "language_info": {
   "codemirror_mode": {
    "name": "ipython",
    "version": 3
   },
   "file_extension": ".py",
   "mimetype": "text/x-python",
   "name": "python",
   "nbconvert_exporter": "python",
   "pygments_lexer": "ipython3",
   "version": "3.7.7"
  }
 },
 "nbformat": 4,
 "nbformat_minor": 4
}
